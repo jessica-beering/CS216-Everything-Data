{
 "cells": [
  {
   "cell_type": "markdown",
   "metadata": {},
   "source": [
    "# Homework #4: Basic Stats and Probability\n",
    "\n",
    "## Question 2 Testing against Benford's Law"
   ]
  },
  {
   "cell_type": "markdown",
   "metadata": {},
   "source": [
    "__Instructions:__\n",
    "* For __(A)__ modify the function benford() \n",
    "* For __(B)__ write code to analyze `election-iran-2009.csv`\n",
    "* Run all cells to show the output"
   ]
  },
  {
   "cell_type": "code",
   "execution_count": 1,
   "metadata": {},
   "outputs": [
    {
     "name": "stdout",
     "output_type": "stream",
     "text": [
      "/bin/sh: 1: pip3: not found\n",
      "Collecting scipy\n",
      "  Using cached scipy-1.0.0-cp27-cp27mu-manylinux1_x86_64.whl\n",
      "Collecting numpy>=1.8.2 (from scipy)\n",
      "  Using cached numpy-1.14.0-cp27-cp27mu-manylinux1_x86_64.whl\n",
      "Installing collected packages: numpy, scipy\n",
      "Successfully installed numpy-1.14.0 scipy-1.0.0\n",
      "\u001b[33mYou are using pip version 8.1.1, however version 9.0.1 is available.\n",
      "You should consider upgrading via the 'pip install --upgrade pip' command.\u001b[0m\n"
     ]
    }
   ],
   "source": [
    "!pip3 install scipy\n",
    "!pip install scipy"
   ]
  },
  {
   "cell_type": "code",
   "execution_count": 2,
   "metadata": {},
   "outputs": [],
   "source": [
    "import csv\n",
    "import collections\n",
    "import matplotlib.pyplot as plt\n",
    "import pylab\n",
    "import numpy\n",
    "from scipy import stats\n",
    "from math import log10"
   ]
  },
  {
   "cell_type": "markdown",
   "metadata": {},
   "source": [
    "__(A)__ In the `benford/` subdirectory, there is a .csv file called `SUB-EST2009_ALL.csv` which is the population numbers from the US census. Below is a trunk of Python code that parses the pupulation data, plots the distribution of their first digits side-by-side with the \"theoretical\" distribution, and performs hypothesis testing (using a [$\\chi^2$ test](http://en.wikipedia.org/wiki/Chi-squared_test)) to know how well the observed first-digit frequencies conform to the theoretical distribution.  \n",
    "\n",
    "But the p-value computed by the supplied code is WRONG! The theoretical distribution in this case should be governed by Benford's Law, but the current implementation in the `benford()` function below uses the uniform distribution.  Your task is to **modify the `benford()` function** so it reflects Benford's Law instead. **Run your modified code and report the p-value. Is it close to 1 or 0? What does that tell you?**"
   ]
  },
  {
   "cell_type": "code",
   "execution_count": 3,
   "metadata": {},
   "outputs": [],
   "source": [
    "def benford():\n",
    "    #\n",
    "    # This method returns an array of 9 entries, representing\n",
    "    # the probabilities of having the first digit to be 1, 2, ..., 9.\n",
    "    #\n",
    "  # WARNING: The following just represent uniform distribution; please repalce\n",
    "    # it with your own implementation of Benford!\n",
    "    #\n",
    "    return [ log10(d+1)-log10(d) for d in digits ]"
   ]
  },
  {
   "cell_type": "code",
   "execution_count": 4,
   "metadata": {},
   "outputs": [
    {
     "name": "stdout",
     "output_type": "stream",
     "text": [
      "chi-squared test p-value: 2.2747922135321912e-05\n"
     ]
    },
    {
     "data": {
      "text/plain": [
       "Text(0.5,1,u'chi-squared test p-value: 2.2747922135321912e-05')"
      ]
     },
     "execution_count": 4,
     "metadata": {},
     "output_type": "execute_result"
    },
    {
     "data": {
      "image/png": "[encoded data removed]",
      "text/plain": [
       "<matplotlib.figure.Figure at 0x7f55380f81d0>"
      ]
     },
     "metadata": {},
     "output_type": "display_data"
    }
   ],
   "source": [
    "digits = range(1, 10) # for first-digit distro, we don't consider 0\n",
    "\n",
    "with open('SUB-EST2009_ALL.csv') as csvfile:\n",
    "    numbers = (int(row['POPCENSUS_2000']) \\\n",
    "               for row in csv.DictReader(csvfile) \\\n",
    "               if row['POPCENSUS_2000'].isdigit())\n",
    "    firstdigits = (int(str(x)[0]) for x in numbers)\n",
    "    counts = collections.Counter(firstdigits)\n",
    "\n",
    "# Peform chi-squared test:\n",
    "freqs = [counts[d] for d in digits]\n",
    "total = sum(counts[d] for d in digits)\n",
    "theoretical_freqs = [ f * total for f in benford() ]\n",
    "chisq, pvalue = stats.chisquare(freqs, theoretical_freqs)\n",
    "print('chi-squared test p-value: ' + str(pvalue))\n",
    "\n",
    "# Plot two distros side-by-side:\n",
    "fig = plt.figure()\n",
    "ax = fig.add_subplot(1, 1, 1)\n",
    "# The third parameter below is the width of the bar, set\n",
    "# such that we can squeeze another set of bars in:\n",
    "rects1 = ax.bar(digits, theoretical_freqs, 0.4, color='g')\n",
    "# In the following, adding the bar width to the x coordinates\n",
    "# position this set of bars side-by-side with the last:\n",
    "rects2 = ax.bar([d + 0.4 for d in digits], freqs, 0.4, color='r')\n",
    "ax.legend((rects1[0], rects2[0]), ('Theoretical', 'Observed'))\n",
    "ax.set_title('chi-squared test p-value: ' + str(pvalue))"
   ]
  },
  {
   "cell_type": "markdown",
   "metadata": {},
   "source": [
    "Run your modified code and report the p-value. Is it close to 1 or 0? What does that tell you?\n",
    "\n",
    "The p-value that is produced is very close to 0, but the histograms are similar. Looking at the y-axis, the scale is very large, which means the visual similarity is in fact probably a significant difference. This signifies that the population data is by chance very similar to a distribution that is close to Benford. "
   ]
  },
  {
   "cell_type": "markdown",
   "metadata": {},
   "source": [
    "__(B)__ Next, you are going to **modify the code further to analyze data from the 2009 Iranian election** in `election-iran-2009.csv`. The numbers of interest in the `.csv` file are the vote counts for candidates Ahmadinejad, Rezai, Karrubi, and Mousavi.  Note that these numbers have commas in them.  You might find Python's [`csv.DictReader`](https://docs.python.org/2/library/csv.html#csv.DictReader) useful.\n",
    "\n",
    "Consider the first-digit distribution of all candidates' vote counts, as well as that of each candidate's vote counts.  Compare each of these distributions to Benford Law. **Which distribution gives you the lowest p-value? How does it compare with the magic p-value of 0.05, which people often use to \"reject\" the hypothesis that data follows the theoretical distribution?**"
   ]
  },
  {
   "cell_type": "code",
   "execution_count": 9,
   "metadata": {},
   "outputs": [
    {
     "name": "stdout",
     "output_type": "stream",
     "text": [
      "chi-squared test p-value: 0.7090550582450321\n"
     ]
    },
    {
     "data": {
      "text/plain": [
       "Text(0.5,1,u'chi-squared test p-value: 0.7090550582450321')"
      ]
     },
     "execution_count": 9,
     "metadata": {},
     "output_type": "execute_result"
    },
    {
     "data": {
      "image/png": "[encoded data removed]",
      "text/plain": [
       "<matplotlib.figure.Figure at 0x7f5538152410>"
      ]
     },
     "metadata": {},
     "output_type": "display_data"
    }
   ],
   "source": [
    "digits = range(1, 10) # for first-digit distro, we don't consider 0\n",
    "\n",
    "with open('election-iran-2009.csv') as csvfile:\n",
    "    #names = ['Ahmadinejad', 'Rezai', 'Karrubi','Mousavi']\n",
    " \n",
    "    numbers = (int((row['Ahmadinejad']).replace(\",\", \"\")) \\\n",
    "               for row in csv.DictReader(csvfile)) \n",
    "    firstdigits = (int(str(x)[0]) for x in numbers)\n",
    "    counts = collections.Counter(firstdigits)\n",
    "\n",
    "# Peform chi-squared test:\n",
    "freqs = [counts[d] for d in digits]\n",
    "total = sum(counts[d] for d in digits)\n",
    "theoretical_freqs = [ f * total for f in benford() ]\n",
    "chisq, pvalue = stats.chisquare(freqs, theoretical_freqs)\n",
    "print('chi-squared test p-value: ' + str(pvalue))\n",
    "\n",
    "# Plot two distros side-by-side:\n",
    "fig = plt.figure()\n",
    "ax = fig.add_subplot(1, 1, 1)\n",
    "# The third parameter below is the width of the bar, set\n",
    "# such that we can squeeze another set of bars in:\n",
    "rects1 = ax.bar(digits, theoretical_freqs, 0.4, color='g')\n",
    "# In the following, adding the bar width to the x coordinates\n",
    "# position this set of bars side-by-side with the last:\n",
    "rects2 = ax.bar([d + 0.4 for d in digits], freqs, 0.4, color='r')\n",
    "ax.legend((rects1[0], rects2[0]), ('Theoretical', 'Observed'))\n",
    "ax.set_title('chi-squared test p-value: ' + str(pvalue))"
   ]
  },
  {
   "cell_type": "code",
   "execution_count": 10,
   "metadata": {},
   "outputs": [
    {
     "name": "stdout",
     "output_type": "stream",
     "text": [
      "chi-squared test p-value: 0.11813362307099959\n"
     ]
    },
    {
     "data": {
      "text/plain": [
       "Text(0.5,1,u'chi-squared test p-value: 0.11813362307099959')"
      ]
     },
     "execution_count": 10,
     "metadata": {},
     "output_type": "execute_result"
    },
    {
     "data": {
      "image/png": "[encoded data removed]",
      "text/plain": [
       "<matplotlib.figure.Figure at 0x7f55094da590>"
      ]
     },
     "metadata": {},
     "output_type": "display_data"
    }
   ],
   "source": [
    "digits = range(1, 10) # for first-digit distro, we don't consider 0\n",
    "\n",
    "with open('election-iran-2009.csv') as csvfile:\n",
    "    #names = ['Ahmadinejad', 'Rezai', 'Karrubi','Mousavi']\n",
    " \n",
    "    numbers = (int((row['Rezai']).replace(\",\", \"\")) \\\n",
    "               for row in csv.DictReader(csvfile)) \n",
    "    firstdigits = (int(str(x)[0]) for x in numbers)\n",
    "    counts = collections.Counter(firstdigits)\n",
    "\n",
    "# Peform chi-squared test:\n",
    "freqs = [counts[d] for d in digits]\n",
    "total = sum(counts[d] for d in digits)\n",
    "theoretical_freqs = [ f * total for f in benford() ]\n",
    "chisq, pvalue = stats.chisquare(freqs, theoretical_freqs)\n",
    "print('chi-squared test p-value: ' + str(pvalue))\n",
    "\n",
    "# Plot two distros side-by-side:\n",
    "fig = plt.figure()\n",
    "ax = fig.add_subplot(1, 1, 1)\n",
    "# The third parameter below is the width of the bar, set\n",
    "# such that we can squeeze another set of bars in:\n",
    "rects1 = ax.bar(digits, theoretical_freqs, 0.4, color='g')\n",
    "# In the following, adding the bar width to the x coordinates\n",
    "# position this set of bars side-by-side with the last:\n",
    "rects2 = ax.bar([d + 0.4 for d in digits], freqs, 0.4, color='r')\n",
    "ax.legend((rects1[0], rects2[0]), ('Theoretical', 'Observed'))\n",
    "ax.set_title('chi-squared test p-value: ' + str(pvalue))"
   ]
  },
  {
   "cell_type": "code",
   "execution_count": 11,
   "metadata": {},
   "outputs": [
    {
     "name": "stdout",
     "output_type": "stream",
     "text": [
      "chi-squared test p-value: 0.35300574369451\n"
     ]
    },
    {
     "data": {
      "text/plain": [
       "Text(0.5,1,u'chi-squared test p-value: 0.35300574369451')"
      ]
     },
     "execution_count": 11,
     "metadata": {},
     "output_type": "execute_result"
    },
    {
     "data": {
      "image/png": "[encoded data removed]",
      "text/plain": [
       "<matplotlib.figure.Figure at 0x7f550966e590>"
      ]
     },
     "metadata": {},
     "output_type": "display_data"
    }
   ],
   "source": [
    "digits = range(1, 10) # for first-digit distro, we don't consider 0\n",
    "\n",
    "with open('election-iran-2009.csv') as csvfile:\n",
    "    #names = ['Ahmadinejad', 'Rezai', 'Karrubi','Mousavi']\n",
    " \n",
    "    numbers = (int((row['Karrubi']).replace(\",\", \"\")) \\\n",
    "               for row in csv.DictReader(csvfile)) \n",
    "    firstdigits = (int(str(x)[0]) for x in numbers)\n",
    "    counts = collections.Counter(firstdigits)\n",
    "\n",
    "# Peform chi-squared test:\n",
    "freqs = [counts[d] for d in digits]\n",
    "total = sum(counts[d] for d in digits)\n",
    "theoretical_freqs = [ f * total for f in benford() ]\n",
    "chisq, pvalue = stats.chisquare(freqs, theoretical_freqs)\n",
    "print('chi-squared test p-value: ' + str(pvalue))\n",
    "\n",
    "# Plot two distros side-by-side:\n",
    "fig = plt.figure()\n",
    "ax = fig.add_subplot(1, 1, 1)\n",
    "# The third parameter below is the width of the bar, set\n",
    "# such that we can squeeze another set of bars in:\n",
    "rects1 = ax.bar(digits, theoretical_freqs, 0.4, color='g')\n",
    "# In the following, adding the bar width to the x coordinates\n",
    "# position this set of bars side-by-side with the last:\n",
    "rects2 = ax.bar([d + 0.4 for d in digits], freqs, 0.4, color='r')\n",
    "ax.legend((rects1[0], rects2[0]), ('Theoretical', 'Observed'))\n",
    "ax.set_title('chi-squared test p-value: ' + str(pvalue))"
   ]
  },
  {
   "cell_type": "code",
   "execution_count": 12,
   "metadata": {},
   "outputs": [
    {
     "name": "stdout",
     "output_type": "stream",
     "text": [
      "chi-squared test p-value: 0.6702036659602462\n"
     ]
    },
    {
     "data": {
      "text/plain": [
       "Text(0.5,1,u'chi-squared test p-value: 0.6702036659602462')"
      ]
     },
     "execution_count": 12,
     "metadata": {},
     "output_type": "execute_result"
    },
    {
     "data": {
      "image/png": "[encoded data removed]",
      "text/plain": [
       "<matplotlib.figure.Figure at 0x7f550949b450>"
      ]
     },
     "metadata": {},
     "output_type": "display_data"
    }
   ],
   "source": [
    "digits = range(1, 10) # for first-digit distro, we don't consider 0\n",
    "\n",
    "with open('election-iran-2009.csv') as csvfile:\n",
    "    #names = ['Ahmadinejad', 'Rezai', 'Karrubi','Mousavi']\n",
    " \n",
    "    numbers = (int((row['Mousavi']).replace(\",\", \"\")) \\\n",
    "               for row in csv.DictReader(csvfile)) \n",
    "    firstdigits = (int(str(x)[0]) for x in numbers)\n",
    "    counts = collections.Counter(firstdigits)\n",
    "\n",
    "# Peform chi-squared test:\n",
    "freqs = [counts[d] for d in digits]\n",
    "total = sum(counts[d] for d in digits)\n",
    "theoretical_freqs = [ f * total for f in benford() ]\n",
    "chisq, pvalue = stats.chisquare(freqs, theoretical_freqs)\n",
    "print('chi-squared test p-value: ' + str(pvalue))\n",
    "\n",
    "# Plot two distros side-by-side:\n",
    "fig = plt.figure()\n",
    "ax = fig.add_subplot(1, 1, 1)\n",
    "# The third parameter below is the width of the bar, set\n",
    "# such that we can squeeze another set of bars in:\n",
    "rects1 = ax.bar(digits, theoretical_freqs, 0.4, color='g')\n",
    "# In the following, adding the bar width to the x coordinates\n",
    "# position this set of bars side-by-side with the last:\n",
    "rects2 = ax.bar([d + 0.4 for d in digits], freqs, 0.4, color='r')\n",
    "ax.legend((rects1[0], rects2[0]), ('Theoretical', 'Observed'))\n",
    "ax.set_title('chi-squared test p-value: ' + str(pvalue))"
   ]
  },
  {
   "cell_type": "markdown",
   "metadata": {},
   "source": [
    "Which distribution gives you the lowest p-value? How does it compare with the magic p-value of 0.05, which people often use to \"reject\" the hypothesis that data follows the theoretical distribution?\n",
    "\n",
    "Rezai gives the lowest p-value, which means his data deviates most from Benford's Law. The p-value of 0.118 is still pretty high, so the null hypothesis cannot be rejected. This means that there could still be falsely reported data or errors. \n"
   ]
  }
 ],
 "metadata": {
  "kernelspec": {
   "display_name": "Python 2",
   "language": "python",
   "name": "python2"
  },
  "language_info": {
   "codemirror_mode": {
    "name": "ipython",
    "version": 2
   },
   "file_extension": ".py",
   "mimetype": "text/x-python",
   "name": "python",
   "nbconvert_exporter": "python",
   "pygments_lexer": "ipython2",
   "version": "2.7.12"
  }
 },
 "nbformat": 4,
 "nbformat_minor": 2
}
