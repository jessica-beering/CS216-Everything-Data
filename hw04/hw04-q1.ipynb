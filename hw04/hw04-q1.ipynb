{
 "cells": [
  {
   "cell_type": "markdown",
   "metadata": {},
   "source": [
    "# Homework #4: Basic Stats and Probability\n",
    "\n",
    "## Question 1 Probabilities"
   ]
  },
  {
   "cell_type": "markdown",
   "metadata": {},
   "source": [
    "There are 150 students in our class.  We had one round of random team assignment into 30 groups of size 5 each. We will soon have a second round of random team assignments into 30 groups of size 5 each. \n",
    "\n",
    "__(A)__ $A$ and $B$ are teammates in Round 1.  What's the probability that they are teammates again in Round 2?"
   ]
  },
  {
   "cell_type": "markdown",
   "metadata": {},
   "source": [
    "If A and B were teammates in Round 1, then in Round 2, the probability that they would be teammates again is $\\frac{4}{149}$. This is because one individual (we can say A in this case) has 149 options for possibile teammates. Person A will get 4 teammates since the groups are composed of 5 people including A. Therefore, person B has 4 chances to be picked as the teammate of A, with each chance having a $\\frac{1}{149}$ probability. "
   ]
  },
  {
   "cell_type": "markdown",
   "metadata": {},
   "source": [
    "__(B)__ $A$ and $B$ are _not_ teammates in Round 1.  What's the probability that they are teammates in Round 2?"
   ]
  },
  {
   "cell_type": "markdown",
   "metadata": {},
   "source": [
    "Since the picking of groups in each round is independent, the probability for being teammates in Round 2 remains $\\frac{4}{149}$."
   ]
  },
  {
   "cell_type": "markdown",
   "metadata": {},
   "source": [
    "__(C)__ What's the probability that every pair of teammates in Round 1 are teammates again in Round 2?"
   ]
  },
  {
   "cell_type": "markdown",
   "metadata": {},
   "source": [
    "The probability is $\\frac{150!}{5!^{30} 30!}$\n",
    "\n",
    "The numerator $150!$ represents the total possible ways of ordering the people in the class. \n",
    "\n",
    "$5!^{30}$ represents the total number of ways of ordering the people in each group because the order of people does not matter and could be different. \n",
    "\n",
    "$30!$ represents the total ordering number of groups, which also does not matter and could be different."
   ]
  },
  {
   "cell_type": "markdown",
   "metadata": {},
   "source": [
    "__(D)__ Answer (A), (B) and (C) if in the second round of assignments randomly created 50 groups of size 3 each."
   ]
  },
  {
   "cell_type": "markdown",
   "metadata": {},
   "source": [
    "__(Answer to A)__ If A and B were teammates in Round 1, then in Round 2, the probability that they would be teammates again is $\\frac{2}{149}$. This is because one individual (we can say A in this case) has 149 options for possibile teammates. Person A will get 2 teammates since the groups are composed of 3 people including A. Therefore, person B has 2 chances to be picked as the teammate of A, with each chance having a $\\frac{1}{149}$ probability. \n",
    "\n",
    "__(Answer to B)__ Since the picking of groups in each round is independent, the probability for being teammates in Round 2 remains $\\frac{2}{149}$.\n",
    "\n",
    "__(Answer to C)__ The probability is 0 since the size of the group is reduced to 3, there is no way that 5 people could all be in a group in round 2; two people will always not be in the group. "
   ]
  },
  {
   "cell_type": "markdown",
   "metadata": {},
   "source": [
    "_NOTE:_ You can arrive at your answer either analytically or computationally (by simulation). With the latter approach, you simulate the process many times, and see what fraction of these times the event of interest occcurs.  In the `prob/` subdirectory, you will find some example simulation code, which computes the expected percentage of boys in a population consisting of a given number of families.  For example:\n",
    "\n",
    "```shell\n",
    "cd ~/working/hw04/prob/\n",
    "python sim_ferengi.py 1 5000\n",
    "```\n",
    "\n",
    "computes the expected percentage of boys in **1** family using **5000** simulations.  Play around with different numbers of families and see how the percentage changes.  Feel free to use the code as a template and modify it to suit your needs. If you use code to estimate any of the probabilities, please submit the code too. \n",
    "\n",
    "You can also run the simulator directly from this Jupyter notebook using the following cell. To do the assignment this way, you can also open `sim_ferengi.py` in its own tab by opening it from the Jupyter Home tab in your browser. To try out a new change, save the file on that tab and come back to this tab to reevaluate the cell below."
   ]
  },
  {
   "cell_type": "code",
   "execution_count": 1,
   "metadata": {},
   "outputs": [
    {
     "name": "stdout",
     "output_type": "stream",
     "text": [
      "500 runs completed\n",
      "observed average percentage so far = 67.5952380952%\n",
      "1000 runs completed\n",
      "observed average percentage so far = 68.9502777778%\n",
      "1500 runs completed\n",
      "observed average percentage so far = 69.2627248677%\n",
      "2000 runs completed\n",
      "observed average percentage so far = 69.4410137085%\n",
      "2500 runs completed\n",
      "observed average percentage so far = 69.3472871573%\n",
      "3000 runs completed\n",
      "observed average percentage so far = 69.5993398268%\n",
      "3500 runs completed\n",
      "observed average percentage so far = 69.5209760874%\n",
      "4000 runs completed\n",
      "observed average percentage so far = 69.5005663781%\n",
      "4500 runs completed\n",
      "observed average percentage so far = 69.5393746994%\n",
      "5000 runs completed\n",
      "observed average percentage so far = 69.377008658%\n",
      "total of 5000 simulations\n",
      "average percentage of boys in a population consisting of 1 families = 69.377008658%\n"
     ]
    }
   ],
   "source": [
    "import sim_ferengi\n",
    "reload(sim_ferengi)\n",
    "sim_ferengi.run_simulation(1, 5000)"
   ]
  }
 ],
 "metadata": {
  "kernelspec": {
   "display_name": "Python 2",
   "language": "python",
   "name": "python2"
  },
  "language_info": {
   "codemirror_mode": {
    "name": "ipython",
    "version": 2
   },
   "file_extension": ".py",
   "mimetype": "text/x-python",
   "name": "python",
   "nbconvert_exporter": "python",
   "pygments_lexer": "ipython2",
   "version": "2.7.12"
  }
 },
 "nbformat": 4,
 "nbformat_minor": 2
}
