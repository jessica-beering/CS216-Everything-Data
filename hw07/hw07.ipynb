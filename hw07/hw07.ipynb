{
 "cells": [
  {
   "cell_type": "markdown",
   "metadata": {},
   "source": [
    "# Homework #7: Clustering"
   ]
  },
  {
   "cell_type": "markdown",
   "metadata": {},
   "source": [
    "__DUE:__ Monday 3/5 11:59am\n",
    "\n",
    "__HOW TO SUBMIT:__ __We are moving to a new submission system that is powered by git__ We are no longer going to use [WebSubmit](https://www.cs.duke.edu/csed/websubmit/). We have created a SUBMIT repository for almost every one on [coursework gitlab](https://coursework.cs.duke.edu). Make sure you have access to CS216-s2018-stu/your_firstname-your_lastname-SUBMIT; otherwise please contact zjmiao@cs.duke.edu as soon as possible. \n",
    "\n",
    "_If this is the first time you are submitting a hw or lab assignment:_\n",
    "\n",
    "Fire up your VM, open a terminal, type in the following commands to initialize your SUBMIT repository:\n",
    "```shell\n",
    "cd ~\n",
    "git clone git@coursework.cs.duke.edu:CS216-s2018-stu/<Firstname>-<Lastname>-SUBMIT.git SUBMIT\n",
    "cd SUBMIT\n",
    "touch README.md\n",
    "git add README.md\n",
    "git commit -m \"add README\"\n",
    "git push -u origin master\n",
    "```\n",
    "Replace `<Firstname>` and `<Lastname>` with your name as it appears on the coursework gitlab page. If this is successful, you should see a new folder SUBMIT in your home directory. \n",
    "\n",
    "_How to submit an assignment:_ \n",
    "\n",
    "Create a new folder `hw07` directly inside your SUBMIT directory. \n",
    "```shell\n",
    "cd ~/SUBMIT\n",
    "mkdir hw07\n",
    "```\n",
    "\n",
    "And copy all required files (from your local `working` directory, see __WHAT TO SUBMIT__ under each problem below) into it. The sample folder structure should look like this:\n",
    "```shell\n",
    "/SUBMIT\n",
    "/SUBMIT/hw07\n",
    "/SUBMIT/hw07/hw07.ipynb\n",
    "```    \n",
    "\n",
    "Finally, when your are ready to submit your homework, run the commands below:\n",
    "```shell\n",
    "cd ~/SUBMIT\n",
    "git add hw07\n",
    "git commit -m \"updated hw07\"\n",
    "git push\n",
    "```\n",
    "You can replace \"updated hw06\" with any meaningful message you want.\n",
    "\n",
    "If your submission is successful, you will see your files in your repository on gitlab website.\n",
    "\n",
    "You can submit multiple times, but __we will only grade the files under /hw07 directory__."
   ]
  },
  {
   "cell_type": "markdown",
   "metadata": {},
   "source": [
    "#     0. Getting Started"
   ]
  },
  {
   "cell_type": "markdown",
   "metadata": {},
   "source": [
    "__WHAT TO SUBMIT:__ Nothing is required for this part.\n",
    "\n",
    "To get ready for this assignment, open up a VM shell, and type the following command:\n",
    "\n",
    "```shell\n",
    "~/CS216-s2018-READONLY/sync.sh\n",
    "```\n",
    "\n",
    "Next, type the following commands to create a working directory for this homework. Here we use `hw07` under your `working/` directory, but feel free to change it to another location.\n",
    "\n",
    "```shell\n",
    "cd ~\n",
    "cp -r ~/CS216-s2018-READONLY/assignments/hw07 ~/working/\n",
    "cd ~/working/hw07\n",
    "```"
   ]
  },
  {
   "cell_type": "markdown",
   "metadata": {},
   "source": [
    "# 1. Clustering Reviews"
   ]
  },
  {
   "cell_type": "markdown",
   "metadata": {},
   "source": [
    "In this exercise we are going to revisit the task of deciphering reviews. In HW #5 where we asked you to guess whether a review was for a laptop or a mobile phone.  This time we are not telling what which categories of products these reviews correspond to. Instead, you are going to find out the categories of products yourself by clustering the reviews.\n",
    "\n",
    "In the `hw07/` subdirectory, you will find a CSV file named `reviews.csv`, which contains 250 products and one review for each product.  We have provided the Python function `run_kmeans()` that clusters the reviews using `sklearn`'s builtin k-means clustering implementation. You can read its official documentation: http://scikit-learn.org/stable/modules/generated/sklearn.cluster.KMeans.html. Read the function carefully. Note: \n",
    "\n",
    "- we set `n_clusters=2` just as an example and not because there are only 2 clusters in the data. \n",
    "- features are created for each review using the `TfidfVectorizer`.\n",
    "\n",
    "The script clusters the data and prints:\n",
    "- a score related to the objective function being minimized\n",
    "- all the ids and the predicted cluster they belong to\n",
    "- the cluster centers\n",
    "\n",
    "Yor task is to answer the following questions: \n",
    " - What is your estimate for the best `k` for this dataset?\n",
    " - Justify your `k` value using the output of the clustering. \n",
    " \n",
    "__HINT__: You can modify `run_kmeans()` to loop over many other `k` values and compute measures/visualize the clusters to help you decide what the best `k` is. You can also choose to use a different clustering algorithm if you want. \n",
    "\n",
    "__WHAT TO SUBMIT__: type your answers to the two questions in the notebook. Submit the `hw07.ipynb` notebook."
   ]
  },
  {
   "cell_type": "code",
   "execution_count": 1,
   "metadata": {},
   "outputs": [],
   "source": [
    "import sys\n",
    "import numpy\n",
    "import matplotlib.pyplot as plt\n",
    "from sklearn.feature_extraction.text import CountVectorizer\n",
    "from sklearn.feature_extraction.text import TfidfVectorizer\n",
    "from sklearn.cluster import KMeans"
   ]
  },
  {
   "cell_type": "code",
   "execution_count": 2,
   "metadata": {},
   "outputs": [],
   "source": [
    "def run_kmeans():\n",
    "    # read the poorly formatted CSV:\n",
    "    with open('reviews.csv', 'r') as f:\n",
    "        ids = list()\n",
    "        labels = list()\n",
    "        reviews = list()\n",
    "        for line in f:\n",
    "            fields = line.split(',')\n",
    "            id = fields[0]\n",
    "            ids.append(id)\n",
    "            review = ','.join(fields[1:])\n",
    "            reviews.append(review)\n",
    "\n",
    "    # turn each review into a feature vector:\n",
    "    ## ... using counts\n",
    "    #vectorizer = CountVectorizer(binary=False)\n",
    "    ## ... using TFIDFs (note we are removing stop words)\n",
    "    vectorizer = TfidfVectorizer(stop_words='english')\n",
    "    vectorizer.fit(reviews)\n",
    "    \n",
    "    # 'features' contains the names of the features\n",
    "    # (i.e., words appearing in the reviews minus the stop words)\n",
    "    features = vectorizer.get_feature_names()\n",
    "    # 'X' is the matrix of feature values for the reviews. \n",
    "    X = vectorizer.transform(reviews)\n",
    "    \n",
    "    # create list for various k-means scores dependent on value of k (clusters)\n",
    "    # As k increases, the score will decrease because there are more clusters and \n",
    "    # the score is a sum of distances b/t point and closest cluster \n",
    "    \n",
    "    k_means_score = []\n",
    "    for x in range (2,11): #2-10 k values \n",
    "        # Cluster using K-Means\n",
    "        clusterer = KMeans(n_clusters=x, init='k-means++', n_init=10, max_iter=1000)\n",
    "        clusterer.fit(X)\n",
    "        score= (-1.0 * clusterer.score(X))\n",
    "        k_means_score.append(score)\n",
    "        \n",
    "    # print k_means_score\n",
    "    \n",
    "    plt.xlabel(\"k\")\n",
    "    plt.ylabel(\"K-Means Score\")\n",
    "    print plt.plot([2, 3, 4, 5, 6, 7, 8, 9, 10], k_means_score)\n",
    "    \n",
    "    # print the number of clusters and the objective value\n",
    "   # print \"========================\"\n",
    "   # print \"number of clusters = \", 2, \" score = \", (-1.0 * clusterer.score(X))\n",
    "\n",
    "    # print the clusters to which each review is assigned to\n",
    "   # print \"========================\"\n",
    "   # print \"Output Clusters:\"\n",
    "   # yhat = clusterer.predict(X)\n",
    "   # for i in range(len(yhat)):\n",
    "   #     print ids[i], yhat[i]\n",
    "    \n",
    "    # print the cluster centers\n",
    "   # print \"========================\"\n",
    "   # print \"Cluster Centers:\"\n",
    "  #  centers = clusterer.cluster_centers_\n",
    "  #  print centers"
   ]
  },
  {
   "cell_type": "code",
   "execution_count": 3,
   "metadata": {
    "scrolled": true
   },
   "outputs": [
    {
     "name": "stdout",
     "output_type": "stream",
     "text": [
      "[<matplotlib.lines.Line2D object at 0x7ff2b3cf6790>]\n"
     ]
    },
    {
     "data": {
      "image/png": "[encoded data removed]",
      "text/plain": [
       "<matplotlib.figure.Figure at 0x7ff2da689110>"
      ]
     },
     "metadata": {},
     "output_type": "display_data"
    }
   ],
   "source": [
    "run_kmeans()"
   ]
  },
  {
   "cell_type": "markdown",
   "metadata": {},
   "source": [
    "**(1)**. What is your estimate for the best `k` for this dataset?"
   ]
  },
  {
   "cell_type": "markdown",
   "metadata": {},
   "source": [
    "k = 4"
   ]
  },
  {
   "cell_type": "markdown",
   "metadata": {},
   "source": [
    "**(2)**. Justify your `k` value using the output of the clustering. "
   ]
  },
  {
   "cell_type": "markdown",
   "metadata": {},
   "source": [
    "At k=4 there is an obvious change in slope. The slope of the line at k=4 to k=5 is less than the slope from k=1 to k=4, which means the score is not reduced at the same rate when the 5th cluster is added. Therefore a good estimate for the value of k is 4."
   ]
  }
 ],
 "metadata": {
  "kernelspec": {
   "display_name": "Python 2",
   "language": "python",
   "name": "python2"
  },
  "language_info": {
   "codemirror_mode": {
    "name": "ipython",
    "version": 2
   },
   "file_extension": ".py",
   "mimetype": "text/x-python",
   "name": "python",
   "nbconvert_exporter": "python",
   "pygments_lexer": "ipython2",
   "version": "2.7.12"
  }
 },
 "nbformat": 4,
 "nbformat_minor": 1
}
