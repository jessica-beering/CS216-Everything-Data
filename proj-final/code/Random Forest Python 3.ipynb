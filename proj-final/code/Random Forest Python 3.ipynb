{
 "cells": [
  {
   "cell_type": "code",
   "execution_count": 14,
   "metadata": {},
   "outputs": [],
   "source": [
    "import csv\n",
    "import numpy as np\n",
    "import pandas as pd\n",
    "import sklearn\n",
    "import math\n",
    "from sklearn.model_selection import train_test_split\n",
    "from sklearn.ensemble import RandomForestRegressor\n",
    "from sklearn.tree import export_graphviz\n",
    "import pydot\n",
    "import matplotlib.pyplot as plt"
   ]
  },
  {
   "cell_type": "code",
   "execution_count": 15,
   "metadata": {},
   "outputs": [],
   "source": [
    "features = pd.read_csv('onpr.csv')\n",
    "\n",
    "#separate features from the known number of shares\n",
    "shares = np.array(features[' shares'])\n"
   ]
  },
  {
   "cell_type": "code",
   "execution_count": 16,
   "metadata": {},
   "outputs": [
    {
     "name": "stdout",
     "output_type": "stream",
     "text": [
      "[1, 1, 2, 2, 1, 1, 1, 1, 3, 1, 2, 2, 1, 3, 1, 2, 3, 3, 3, 3, 2, 1, 1, 2, 1, 1, 2, 2, 1, 1, 3, 3, 1, 1, 3, 1, 3, 2, 1, 2, 2, 1, 3, 2, 2, 1, 1, 2, 1, 2, 3, 1, 1, 3, 2, 2, 2, 2, 1, 1, 1, 1, 1, 1, 1, 3, 1, 2, 2, 1, 2, 2, 1, 1, 2, 1, 1, 3, 1, 1, 1, 3, 2, 2, 2, 2, 2, 2, 2, 2, 1, 1, 2, 1, 2, 3, 3, 1, 1, 2]\n"
     ]
    }
   ],
   "source": [
    "#remove labels from features. Axis 1 = the column names\n",
    "\n",
    "sharesCol = shares\n",
    "\n",
    "sharesColZeroOne=[0]*39630\n",
    "\n",
    "i=0\n",
    "while i<len(sharesCol):\n",
    "    if sharesCol[i]>946 and sharesCol[i] <=2800:\n",
    "        sharesColZeroOne[i] = 2 #normal\n",
    "        i=i+1\n",
    "    elif sharesCol[i]>2800:\n",
    "        sharesColZeroOne[i]=3 #super duper duper popular\n",
    "        i=i+1\n",
    "    else:\n",
    "        sharesColZeroOne[i] = 1 \n",
    "        i=i+1 #not popular\n",
    "        \n",
    "print(sharesColZeroOne[:100])"
   ]
  },
  {
   "cell_type": "code",
   "execution_count": 17,
   "metadata": {},
   "outputs": [],
   "source": [
    "csv_input = pd.read_csv('onpr.csv')\n",
    "csv_input[' pop shares'] = sharesColZeroOne\n",
    "csv_input.to_csv('output.csv', index=False)"
   ]
  },
  {
   "cell_type": "code",
   "execution_count": 18,
   "metadata": {},
   "outputs": [],
   "source": [
    "features = pd.read_csv('output.csv')\n",
    "features = features.drop(' shares', axis = 1)\n",
    "features = features.drop('id', axis = 1)\n",
    "features = features.drop('pub_date', axis = 1)\n",
    "features = features.drop('url', axis = 1)\n",
    "shares = np.array(features[' pop shares'])\n",
    "features = features.drop(' pop shares', axis = 1)"
   ]
  },
  {
   "cell_type": "code",
   "execution_count": 19,
   "metadata": {},
   "outputs": [],
   "source": [
    "#but save these feature names for when we are done\n",
    "feature_list = list(features.columns)"
   ]
  },
  {
   "cell_type": "code",
   "execution_count": 20,
   "metadata": {},
   "outputs": [],
   "source": [
    "features = np.array(features)\n",
    "\n",
    "#We split data up into training and training sets. \n",
    "train_features, test_features, train_labels, test_labels = train_test_split (features, shares, test_size = 0.25, random_state = 42)\n",
    "\n"
   ]
  },
  {
   "cell_type": "code",
   "execution_count": 21,
   "metadata": {},
   "outputs": [
    {
     "name": "stdout",
     "output_type": "stream",
     "text": [
      "[ 1.          0.          0.          0.          0.          0.\n",
      "  0.          1.          1.          0.          0.          0.\n",
      "  0.          0.          0.          0.          0.         15.98873678]\n",
      "hbu\n",
      "[ 1.          9.          0.          0.          0.          1.\n",
      "  0.          0.          0.          0.          0.          0.\n",
      "  0.          0.          1.          0.          0.         20.06305066]\n"
     ]
    }
   ],
   "source": [
    "print(train_features[1])\n",
    "print(\"hbu\")\n",
    "print(test_features[1])"
   ]
  },
  {
   "cell_type": "code",
   "execution_count": 22,
   "metadata": {},
   "outputs": [],
   "source": [
    "\n",
    "#makes a \"forest\" with 1000 decision trees\n",
    "rf = RandomForestRegressor(n_estimators = 1000, random_state = 42)\n",
    "\n",
    "#trains data here\n",
    "rf.fit(train_features, train_labels);\n"
   ]
  },
  {
   "cell_type": "code",
   "execution_count": 23,
   "metadata": {},
   "outputs": [],
   "source": [
    "#Predict!\n",
    "predictions = rf.predict(test_features)"
   ]
  },
  {
   "cell_type": "code",
   "execution_count": 24,
   "metadata": {},
   "outputs": [
    {
     "name": "stdout",
     "output_type": "stream",
     "text": [
      "Mean absolute error: 0.58\n",
      "Accuracy: 63.18 %.\n"
     ]
    }
   ],
   "source": [
    "\n",
    "#calculating errors\n",
    "errors = abs(predictions - test_labels) #find errors\n",
    "print('Mean absolute error:', round(np.mean(errors), 2))\n",
    "\n",
    "\n",
    "\n",
    "#find mean absolute percentage error: \n",
    "perc = 100 * (errors / test_labels)\n",
    "accuracy = 100-np.mean(perc)\n",
    "print('Accuracy:', round(accuracy, 2), '%.')"
   ]
  },
  {
   "cell_type": "code",
   "execution_count": 25,
   "metadata": {},
   "outputs": [
    {
     "name": "stdout",
     "output_type": "stream",
     "text": [
      "Variable: ari                  Importance: 0.49\n",
      "Variable: content_trending     Importance: 0.13\n",
      "Variable:  num_imgs            Importance: 0.1\n",
      "Variable:  num_videos          Importance: 0.05\n",
      "Variable: title_trending       Importance: 0.03\n",
      "Variable: entertainment        Importance: 0.02\n",
      "Variable: world                Importance: 0.02\n",
      "Variable: monday               Importance: 0.02\n",
      "Variable: tuesday              Importance: 0.02\n",
      "Variable: wednesday            Importance: 0.02\n",
      "Variable: thursday             Importance: 0.02\n",
      "Variable: friday               Importance: 0.02\n",
      "Variable: lifestyle            Importance: 0.01\n",
      "Variable: business             Importance: 0.01\n",
      "Variable: social_media         Importance: 0.01\n",
      "Variable: tech                 Importance: 0.01\n",
      "Variable: saturday             Importance: 0.01\n",
      "Variable: sunday               Importance: 0.01\n"
     ]
    },
    {
     "data": {
      "text/plain": [
       "[None,\n",
       " None,\n",
       " None,\n",
       " None,\n",
       " None,\n",
       " None,\n",
       " None,\n",
       " None,\n",
       " None,\n",
       " None,\n",
       " None,\n",
       " None,\n",
       " None,\n",
       " None,\n",
       " None,\n",
       " None,\n",
       " None,\n",
       " None]"
      ]
     },
     "execution_count": 25,
     "metadata": {},
     "output_type": "execute_result"
    }
   ],
   "source": [
    "#Variable importance: \n",
    "#can tell you how much incuding a certain variable improves the prediciton \n",
    "importances = list(rf.feature_importances_)\n",
    "feature_importances = [(feature, round(importance, 2)) for feature, importance in zip(feature_list, importances)]\n",
    "\n",
    "feature_importances = sorted(feature_importances, key = lambda x: x[1], reverse = True)\n",
    "\n",
    "[print('Variable: {:20} Importance: {}'.format(*pair)) for pair in feature_importances]"
   ]
  },
  {
   "cell_type": "code",
   "execution_count": 26,
   "metadata": {},
   "outputs": [
    {
     "data": {
      "text/plain": [
       "Text(0.5,1,'Variable Importances')"
      ]
     },
     "execution_count": 26,
     "metadata": {},
     "output_type": "execute_result"
    },
    {
     "data": {
      "image/png": "[encoded data removed]",
      "text/plain": [
       "<Figure size 432x288 with 1 Axes>"
      ]
     },
     "metadata": {},
     "output_type": "display_data"
    }
   ],
   "source": [
    "#visualization of variable importance\n",
    "\n",
    "%matplotlib inline\n",
    "plt.style.use('fivethirtyeight')\n",
    "x_values = list(range(len(importances)))\n",
    "plt.bar(x_values, importances, orientation = 'vertical')\n",
    "plt.xticks(x_values, feature_list, rotation='vertical')\n",
    "\n",
    "plt.ylabel('Importance'); plt.xlabel('Variable')\n",
    "plt.title('Variable Importances')"
   ]
  },
  {
   "cell_type": "code",
   "execution_count": null,
   "metadata": {},
   "outputs": [],
   "source": []
  }
 ],
 "metadata": {
  "kernelspec": {
   "display_name": "Python 3",
   "language": "python",
   "name": "python3"
  },
  "language_info": {
   "codemirror_mode": {
    "name": "ipython",
    "version": 3
   },
   "file_extension": ".py",
   "mimetype": "text/x-python",
   "name": "python",
   "nbconvert_exporter": "python",
   "pygments_lexer": "ipython3",
   "version": "3.5.2"
  }
 },
 "nbformat": 4,
 "nbformat_minor": 2
}
