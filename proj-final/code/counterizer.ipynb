{
 "cells": [
  {
   "cell_type": "code",
   "execution_count": 1,
   "metadata": {},
   "outputs": [
    {
     "name": "stdout",
     "output_type": "stream",
     "text": [
      "Requirement already satisfied: tabulate in /home/vcm/.local/lib/python2.7/site-packages\n",
      "\u001b[33mYou are using pip version 9.0.2, however version 10.0.1 is available.\n",
      "You should consider upgrading via the 'pip install --upgrade pip' command.\u001b[0m\n"
     ]
    }
   ],
   "source": [
    "!pip install tabulate\n",
    "from IPython.display import HTML, display\n",
    "import tabulate\n",
    "import re\n",
    "import csv\n",
    "import pandas as pd\n",
    "import numpy as np\n",
    "import sklearn "
   ]
  },
  {
   "cell_type": "code",
   "execution_count": 10,
   "metadata": {},
   "outputs": [],
   "source": [
    "with open('2013-06.csv', 'r') as csvfile:\n",
    "    reader = csv.reader(csvfile)\n",
    "    row = []\n",
    "    df = pd.read_csv(csvfile)\n",
    "  \n",
    " #---putting all info from content csv into arrays\n",
    "    #idCol = df.id #put id's in to a list\n",
    "    urlCol = df.url #put url's in to a list\n",
    "    dateCol = df.pub_date\n",
    "    titleCol = df.title\n",
    "    contentCol = df.content \n",
    "#----get the texts we wanna examine\n",
    "    text = list(contentCol)\n",
    "\n",
    "#---get the vocab we wanna use\n",
    "with open('Topics - Jun2013.csv', 'r') as csvfile:\n",
    "    reader = csv.reader(csvfile)\n",
    "    vo = list(reader)\n",
    "    vo = sum(vo, [])\n",
    "    voc = [item.lower() for item in vo]\n",
    "    vocab = [it.replace(\"'s\",'').replace(\"s'\",'') for it in voc]\n",
    "    vocab = filter(lambda a: a != '', vocab)\n",
    "    vocab = list(set(vocab))"
   ]
  },
  {
   "cell_type": "code",
   "execution_count": 11,
   "metadata": {},
   "outputs": [],
   "source": [
    "from sklearn.feature_extraction.text import CountVectorizer\n",
    "#---do the count stuff\n",
    "addtoCSV = list()\n",
    "cv = sklearn.feature_extraction.text.CountVectorizer(vocabulary = vocab)\n",
    "contentCountArray = cv.fit_transform(text).toarray()\n",
    "##--do same thing but with title\n",
    "text = list(titleCol)\n",
    "cv = sklearn.feature_extraction.text.CountVectorizer(vocabulary = vocab)\n",
    "titleCountArray = cv.fit_transform(text).toarray()\n"
   ]
  },
  {
   "cell_type": "code",
   "execution_count": 12,
   "metadata": {
    "scrolled": true
   },
   "outputs": [],
   "source": [
    "#----add in header/col names\n",
    "header = list()\n",
    "header.append(\"url\")\n",
    "header.append(\"pub_date\")\n",
    "header.append(\"title\")\n",
    "header.append(\"Count for content\")\n",
    "header.append(\"Count for title\")\n",
    "addtoCSV.append(header)\n",
    "\n",
    "#---loop through count Array's and add them to CSV rows\n",
    "for row in range (0,len(contentCountArray)):\n",
    "    c= sum(contentCountArray[:][row])\n",
    "    t= sum(titleCountArray[:][row])\n",
    "    rowinCSV = list()\n",
    "    rowinCSV.append(urlCol[row])\n",
    "    rowinCSV.append(dateCol[row])\n",
    "    rowinCSV.append(titleCol[row])\n",
    "    rowinCSV.append(c)\n",
    "    rowinCSV.append(t)\n",
    "    addtoCSV.append(rowinCSV)\n",
    "#goes url, date, title, content col, title col"
   ]
  },
  {
   "cell_type": "code",
   "execution_count": 14,
   "metadata": {},
   "outputs": [],
   "source": [
    "#--create csv file for that month article vs. count\n",
    "with open('jun2013.csv', 'w') as myfile:\n",
    "        wr = csv.writer(myfile)\n",
    "        wr.writerows(addtoCSV)"
   ]
  },
  {
   "cell_type": "code",
   "execution_count": null,
   "metadata": {},
   "outputs": [],
   "source": []
  }
 ],
 "metadata": {
  "kernelspec": {
   "display_name": "Python 2",
   "language": "python",
   "name": "python2"
  },
  "language_info": {
   "codemirror_mode": {
    "name": "ipython",
    "version": 2
   },
   "file_extension": ".py",
   "mimetype": "text/x-python",
   "name": "python",
   "nbconvert_exporter": "python",
   "pygments_lexer": "ipython2",
   "version": "2.7.12"
  }
 },
 "nbformat": 4,
 "nbformat_minor": 2
}
