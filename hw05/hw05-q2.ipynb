{
 "cells": [
  {
   "cell_type": "markdown",
   "metadata": {},
   "source": [
    "# Homework #5: Classification\n",
    "# 2. Predicting Party Affiliation by Votes"
   ]
  },
  {
   "cell_type": "markdown",
   "metadata": {},
   "source": [
    "So far in our classification assignments, we have provided most of the code for extracting features.  Now it is your turn to get your hands dirty and implement feature extraction from data.  For this problem, we will use the `congress` database, first introduced in Homework #2.  You should still have this database on your VM (you can check it with `psql congress`); if not, follow the instructions in Homework #2 to recreate this database.\n",
    "\n",
    "Your task for this problem is to predict, using the votes in the House cast by a Representative in the 2015 session, whether this Representative is Republican.  Under the `congress/` subdirectory, the script `classify.py` is ready to go. It uses Python `sklearn`'s multivariate Bernoulli Naive Bayes classification, which models each Representative's voting history as bit vector, where each component corresponds to what the Reprsentative did for each vote.  Your job is complete this notebook file.  What your code needs to produce is explained by the comments in the following cells.\n",
    "\n",
    "The program will first run a particular train-test split to print out more specific information (for debugging); then it will run 10-fold cross validation on the entire dataset. If the dataset that you have prepared is too small, you may get some error like 'All the n_labels for individual classes are less than 10 folds.' just like what the example codes below will show."
   ]
  },
  {
   "cell_type": "code",
   "execution_count": 1,
   "metadata": {},
   "outputs": [
    {
     "name": "stderr",
     "output_type": "stream",
     "text": [
      "/home/vcm/.local/lib/python2.7/site-packages/psycopg2/__init__.py:144: UserWarning: The psycopg2 wheel package will be renamed from release 2.8; in order to keep installing from binary please use \"pip install psycopg2-binary\" instead. For details see: <http://initd.org/psycopg/docs/install.html#binary-install-from-pypi>.\n",
      "  \"\"\")\n"
     ]
    }
   ],
   "source": [
    "import sys\n",
    "import psycopg2\n",
    "import cPickle as pickle\n",
    "import numpy"
   ]
  },
  {
   "cell_type": "code",
   "execution_count": 2,
   "metadata": {},
   "outputs": [],
   "source": [
    "pikfile = 'prepared.pik'\n",
    "def get_data():\n",
    "    with open(pikfile, 'rb') as f:\n",
    "        return pickle.load(f)"
   ]
  },
  {
   "cell_type": "code",
   "execution_count": 3,
   "metadata": {},
   "outputs": [],
   "source": [
    "def prepare_data():\n",
    "    # Connect to the congress database and construct the following objects:\n",
    "    # votes: a list of vote ids (from the id column of votes table) for votes\n",
    "    #        of interest.\n",
    "    # persons: a list of person ids for legislators (from the person_id column\n",
    "    #          of the person_votes table) who ever casted any vote of interest.\n",
    "    # X: a matrix (numpy.array) where each row corresponds to a person in\n",
    "    #    persons above and each column corresponds to a vote in votes\n",
    "    #    above; X[i,j] = 1 if the the vote cast by persons[i] for\n",
    "    #    votes[j] is positive, or 0 otherwise.\n",
    "    # y: a vector (numpy.array) where each component corresponds to a person\n",
    "    #    in persons above; y[i] = 1 if the person is Republican, or 0 otherwise.\n",
    "\n",
    "    conn = psycopg2.connect(\"dbname=congress\")\n",
    "    cur = conn.cursor()\n",
    "    \n",
    "    # correct implementation to get votes\n",
    "    cur.execute('''\n",
    "SELECT id\n",
    "FROM votes\n",
    "WHERE chamber = 'h' AND session = 2015\n",
    "ORDER BY id;\n",
    "''')\n",
    "    \n",
    "    #votes array of voteIDS\n",
    "\n",
    "    votes = [ vote_id for vote_id, in cur ]\n",
    "    vote2index = { vote_id : i for i, vote_id in enumerate(votes) }\n",
    "\n",
    "    # REPLACE THE FOLLOWING (INCORRECT) WITH YOUR IMPLEMENTATION:\n",
    "    # You will need to get persons and their party from the database to replace the hard coded samples\n",
    "    \n",
    "\n",
    "    #persons array of personIDs\n",
    "    \n",
    "    #SQL query for list of person_ids | party \n",
    "        \n",
    "    cur.execute('''\n",
    "SELECT DISTINCT p.person_id, r.party\n",
    "FROM person_votes p, person_roles r, votes v\n",
    "WHERE v.id = p.vote_id AND r.person_id = p.person_id AND v.chamber = 'h' AND v.session = 2015\n",
    "AND r.start_date <= '2015-12-31' AND r.end_date >= '2015-12-31'\n",
    "ORDER BY p.person_id;\n",
    "''')\n",
    "   \n",
    "    persons = [] \n",
    "    y = []\n",
    "    \n",
    "    for person_id, party in cur:\n",
    "        persons.append(person_id)\n",
    "        \n",
    "        if party == 'Republican': \n",
    "            y.append(1)\n",
    "        else: \n",
    "            y.append(0)\n",
    "        \n",
    "    person2index = { p_id : i for i, p_id in enumerate(persons) }\n",
    "    \n",
    "    # REPLACE THE FOLLOWING (INCORRECT) WITH YOUR IMPLEMENTATION:\n",
    "    # You will need to set up the features\n",
    "\n",
    "# X \n",
    "\n",
    "    X = numpy.zeros((len(persons), len(votes)), dtype=int)\n",
    "\n",
    "    cur.execute('''\n",
    "SELECT p.person_id, p.vote_id, p.vote  \n",
    "FROM person_votes p, votes v, person_roles r\n",
    "WHERE v.chamber = 'h' AND v.session = 2015 AND v.id = p.vote_id AND r.person_id = p.person_id\n",
    "AND r.start_date <= '2015-12-31' AND r.end_date >= '2015-12-31'\n",
    "ORDER BY v.id, p.person_id\n",
    "''')\n",
    "    \n",
    "    for person_id, vote_id, vote in cur:            \n",
    "        if (vote == 'Yea' or vote == 'Aye'): #positive vote: Yea aye\n",
    "            X[person2index[person_id], vote2index[vote_id]] = 1\n",
    "        else: #negative vote\n",
    "            X[person2index[person_id], vote2index[vote_id]] = 0\n",
    "                \n",
    "    # REPLACE THE FOLLOWING (INCORRECT) WITH YOUR IMPLEMENTATION:\n",
    "    # Instead of hard coding, fill in X matrix with general information about person index and vote index\n",
    "    # An example that person A000055 votes positively for the first vote_id\n",
    "   \n",
    "    \n",
    "    #person_id = 'A000055'\n",
    "    #vote_id = votes[0]\n",
    "    #X[person2index[person_id], vote2index[vote_id]] = 1\n",
    "    \n",
    "    # close database connection\n",
    "    cur.close()\n",
    "    conn.close()\n",
    "\n",
    "    # DO NOT MODIFY THE REST OF THE CODE:\n",
    "    with open(pikfile, 'wb') as f:\n",
    "        pickle.dump((X, y, persons, votes), f)\n"
   ]
  },
  {
   "cell_type": "code",
   "execution_count": 4,
   "metadata": {},
   "outputs": [
    {
     "name": "stderr",
     "output_type": "stream",
     "text": [
      "/home/vcm/.local/lib/python2.7/site-packages/sklearn/cross_validation.py:41: DeprecationWarning: This module was deprecated in version 0.18 in favor of the model_selection module into which all the refactored classes and functions are moved. Also note that the interface of the new CV iterators are different from that of this module. This module will be removed in 0.20.\n",
      "  \"This module will be removed in 0.20.\", DeprecationWarning)\n"
     ]
    },
    {
     "name": "stdout",
     "output_type": "stream",
     "text": [
      "434 instances, 704 features\n",
      "======================================================================\n",
      "debugging on one train/test split:\n",
      "train accuracy: 1.0000\n",
      "test accuracy: 1.0000\n",
      "top 20 features:\n",
      "\th491-114.2015       : -4.8853\th558-114.2015       : +5.0601\n",
      "\th492-114.2015       : -4.8853\th422-114.2015       : +5.0601\n",
      "\th554-114.2015       : -4.8853\th421-114.2015       : +5.0601\n",
      "\th566-114.2015       : -4.8853\th357-114.2015       : +5.0601\n",
      "\th180-114.2015       : -4.8789\th414-114.2015       : +5.0525\n",
      "\th181-114.2015       : -4.8789\th354-114.2015       : +5.0525\n",
      "\th379-114.2015       : -4.8789\th564-114.2015       : +5.0449\n",
      "\th392-114.2015       : -4.8789\th523-114.2015       : +5.0449\n",
      "\th541-114.2015       : -4.8789\th457-114.2015       : +5.0449\n",
      "\th542-114.2015       : -4.8789\th446-114.2015       : +5.0449\n",
      "======================================================================\n",
      "running 10-fold cross validation...\n",
      "[1. 1. 1. 1. 1. 1. 1. 1. 1. 1.]\n",
      "accuracy: 1.0000 (+/- 0.0000)\n"
     ]
    }
   ],
   "source": [
    "prepare_data()\n",
    "%run -i classify.py"
   ]
  },
  {
   "cell_type": "code",
   "execution_count": null,
   "metadata": {},
   "outputs": [],
   "source": []
  }
 ],
 "metadata": {
  "kernelspec": {
   "display_name": "Python 2",
   "language": "python",
   "name": "python2"
  },
  "language_info": {
   "codemirror_mode": {
    "name": "ipython",
    "version": 2
   },
   "file_extension": ".py",
   "mimetype": "text/x-python",
   "name": "python",
   "nbconvert_exporter": "python",
   "pygments_lexer": "ipython2",
   "version": "2.7.12"
  }
 },
 "nbformat": 4,
 "nbformat_minor": 2
}
